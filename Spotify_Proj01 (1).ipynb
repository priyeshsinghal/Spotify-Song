{
  "nbformat": 4,
  "nbformat_minor": 0,
  "metadata": {
    "colab": {
      "provenance": []
    },
    "kernelspec": {
      "name": "python3",
      "display_name": "Python 3"
    },
    "language_info": {
      "name": "python"
    }
  },
  "cells": [
    {
      "cell_type": "code",
      "source": [
        "import random\n",
        "import string\n",
        "import pandas as pd\n",
        "import matplotlib.pyplot as plt\n",
        "import seaborn as sns\n",
        "import plotly.express as px\n",
        "import numpy as np\n",
        "\n",
        "import random\n",
        "import string\n",
        "import numpy as np\n",
        "import pandas as pd\n",
        "import matplotlib.pyplot as plt\n",
        "import seaborn as sns"
      ],
      "metadata": {
        "id": "PDxkuD1gnl1V"
      },
      "execution_count": null,
      "outputs": []
    },
    {
      "cell_type": "code",
      "source": [
        "# Extract existing playlists from the given data\n",
        "import random\n",
        "import string\n",
        "\n",
        "songids = ['SONGID' + str(i).zfill(2) for i in range(1, 21)]\n",
        "userid = [''.join('USER') + str(random.randint(10, 99)).zfill(2) for i in range(100)]\n",
        "playlist = {i: j for i, j in zip(userid, [random.sample(songids, random.randint(4, 7)) for i in range(len(userid))])}\n",
        "\n",
        "print(playlist)\n"
      ],
      "metadata": {
        "colab": {
          "base_uri": "https://localhost:8080/"
        },
        "id": "Qqt9bK1UnvEP",
        "outputId": "3cfdd5e7-eb8c-44b8-c1b7-6c813ad25117"
      },
      "execution_count": null,
      "outputs": [
        {
          "output_type": "stream",
          "name": "stdout",
          "text": [
            "{'USER24': ['SONGID18', 'SONGID02', 'SONGID10', 'SONGID01'], 'USER72': ['SONGID11', 'SONGID07', 'SONGID09', 'SONGID03', 'SONGID19', 'SONGID12'], 'USER47': ['SONGID11', 'SONGID18', 'SONGID03', 'SONGID20'], 'USER17': ['SONGID08', 'SONGID15', 'SONGID03', 'SONGID17', 'SONGID20', 'SONGID04'], 'USER14': ['SONGID02', 'SONGID17', 'SONGID19', 'SONGID15'], 'USER51': ['SONGID09', 'SONGID01', 'SONGID12', 'SONGID13', 'SONGID14', 'SONGID05', 'SONGID02'], 'USER26': ['SONGID06', 'SONGID16', 'SONGID07', 'SONGID10', 'SONGID02', 'SONGID05', 'SONGID17'], 'USER46': ['SONGID16', 'SONGID18', 'SONGID17', 'SONGID19'], 'USER30': ['SONGID07', 'SONGID17', 'SONGID05', 'SONGID10', 'SONGID03', 'SONGID16'], 'USER95': ['SONGID07', 'SONGID18', 'SONGID04', 'SONGID17'], 'USER92': ['SONGID12', 'SONGID15', 'SONGID14', 'SONGID11', 'SONGID17', 'SONGID16', 'SONGID06'], 'USER34': ['SONGID06', 'SONGID08', 'SONGID13', 'SONGID18', 'SONGID14', 'SONGID12', 'SONGID16'], 'USER80': ['SONGID01', 'SONGID09', 'SONGID20', 'SONGID05', 'SONGID03', 'SONGID07'], 'USER84': ['SONGID10', 'SONGID02', 'SONGID01', 'SONGID09', 'SONGID16'], 'USER32': ['SONGID07', 'SONGID18', 'SONGID11', 'SONGID10', 'SONGID20', 'SONGID05', 'SONGID13'], 'USER57': ['SONGID20', 'SONGID01', 'SONGID14', 'SONGID11', 'SONGID13', 'SONGID07'], 'USER82': ['SONGID03', 'SONGID20', 'SONGID06', 'SONGID18'], 'USER69': ['SONGID10', 'SONGID12', 'SONGID02', 'SONGID04'], 'USER68': ['SONGID11', 'SONGID03', 'SONGID19', 'SONGID18'], 'USER70': ['SONGID06', 'SONGID16', 'SONGID03', 'SONGID01', 'SONGID18', 'SONGID13', 'SONGID19'], 'USER21': ['SONGID14', 'SONGID15', 'SONGID16', 'SONGID07', 'SONGID19', 'SONGID17', 'SONGID08'], 'USER91': ['SONGID14', 'SONGID01', 'SONGID03', 'SONGID04', 'SONGID05'], 'USER28': ['SONGID01', 'SONGID02', 'SONGID11', 'SONGID15', 'SONGID13'], 'USER73': ['SONGID15', 'SONGID08', 'SONGID03', 'SONGID19', 'SONGID05', 'SONGID18'], 'USER74': ['SONGID15', 'SONGID04', 'SONGID02', 'SONGID12'], 'USER31': ['SONGID07', 'SONGID04', 'SONGID06', 'SONGID17', 'SONGID15', 'SONGID13', 'SONGID01'], 'USER29': ['SONGID14', 'SONGID02', 'SONGID17', 'SONGID11', 'SONGID19', 'SONGID16'], 'USER39': ['SONGID01', 'SONGID04', 'SONGID11', 'SONGID05', 'SONGID17', 'SONGID15', 'SONGID19'], 'USER53': ['SONGID12', 'SONGID19', 'SONGID11', 'SONGID17', 'SONGID07', 'SONGID08', 'SONGID06'], 'USER55': ['SONGID05', 'SONGID16', 'SONGID03', 'SONGID02'], 'USER65': ['SONGID10', 'SONGID13', 'SONGID01', 'SONGID20', 'SONGID07', 'SONGID09', 'SONGID04'], 'USER38': ['SONGID10', 'SONGID07', 'SONGID09', 'SONGID06'], 'USER71': ['SONGID04', 'SONGID15', 'SONGID01', 'SONGID18', 'SONGID07', 'SONGID13', 'SONGID20'], 'USER27': ['SONGID09', 'SONGID12', 'SONGID04', 'SONGID07', 'SONGID02', 'SONGID08', 'SONGID19'], 'USER94': ['SONGID19', 'SONGID14', 'SONGID04', 'SONGID03', 'SONGID06'], 'USER35': ['SONGID14', 'SONGID09', 'SONGID11', 'SONGID18', 'SONGID05', 'SONGID02'], 'USER50': ['SONGID01', 'SONGID12', 'SONGID14', 'SONGID15', 'SONGID20', 'SONGID02'], 'USER59': ['SONGID17', 'SONGID18', 'SONGID06', 'SONGID05', 'SONGID11'], 'USER15': ['SONGID04', 'SONGID10', 'SONGID06', 'SONGID18', 'SONGID15', 'SONGID20', 'SONGID14'], 'USER60': ['SONGID18', 'SONGID05', 'SONGID19', 'SONGID10', 'SONGID11', 'SONGID09', 'SONGID12'], 'USER87': ['SONGID01', 'SONGID09', 'SONGID06', 'SONGID04', 'SONGID19'], 'USER99': ['SONGID10', 'SONGID03', 'SONGID18', 'SONGID07', 'SONGID02'], 'USER79': ['SONGID02', 'SONGID19', 'SONGID08', 'SONGID14'], 'USER19': ['SONGID18', 'SONGID06', 'SONGID16', 'SONGID11'], 'USER25': ['SONGID01', 'SONGID05', 'SONGID12', 'SONGID17', 'SONGID19', 'SONGID16', 'SONGID13'], 'USER37': ['SONGID03', 'SONGID08', 'SONGID05', 'SONGID12'], 'USER56': ['SONGID13', 'SONGID11', 'SONGID01', 'SONGID04', 'SONGID18'], 'USER75': ['SONGID15', 'SONGID11', 'SONGID03', 'SONGID12', 'SONGID01'], 'USER20': ['SONGID12', 'SONGID09', 'SONGID13', 'SONGID16'], 'USER11': ['SONGID14', 'SONGID09', 'SONGID15', 'SONGID04', 'SONGID01', 'SONGID12'], 'USER63': ['SONGID05', 'SONGID14', 'SONGID11', 'SONGID18', 'SONGID12', 'SONGID17'], 'USER97': ['SONGID13', 'SONGID19', 'SONGID18', 'SONGID09', 'SONGID04'], 'USER43': ['SONGID01', 'SONGID08', 'SONGID16', 'SONGID04', 'SONGID11', 'SONGID10', 'SONGID13'], 'USER22': ['SONGID02', 'SONGID16', 'SONGID05', 'SONGID20', 'SONGID09', 'SONGID06', 'SONGID15'], 'USER41': ['SONGID06', 'SONGID09', 'SONGID02', 'SONGID16'], 'USER86': ['SONGID09', 'SONGID13', 'SONGID01', 'SONGID14'], 'USER98': ['SONGID18', 'SONGID07', 'SONGID11', 'SONGID16', 'SONGID19'], 'USER93': ['SONGID14', 'SONGID15', 'SONGID05', 'SONGID04', 'SONGID03', 'SONGID01'], 'USER83': ['SONGID07', 'SONGID17', 'SONGID04', 'SONGID03', 'SONGID11', 'SONGID14', 'SONGID16'], 'USER10': ['SONGID14', 'SONGID05', 'SONGID09', 'SONGID20'], 'USER49': ['SONGID06', 'SONGID12', 'SONGID13', 'SONGID01'], 'USER78': ['SONGID12', 'SONGID02', 'SONGID20', 'SONGID07', 'SONGID01', 'SONGID13'], 'USER88': ['SONGID02', 'SONGID13', 'SONGID14', 'SONGID07', 'SONGID04', 'SONGID19'], 'USER96': ['SONGID01', 'SONGID14', 'SONGID17', 'SONGID18', 'SONGID02'], 'USER44': ['SONGID11', 'SONGID10', 'SONGID02', 'SONGID14', 'SONGID19'], 'USER36': ['SONGID06', 'SONGID13', 'SONGID19', 'SONGID20']}\n"
          ]
        }
      ]
    },
    {
      "cell_type": "markdown",
      "source": [
        "**Let's say the new user has listened to these 3 songs**"
      ],
      "metadata": {
        "id": "i_G14leEsBSr"
      }
    },
    {
      "cell_type": "code",
      "source": [
        "myplist=['SONGID01','SONGID06','SONGID16']\n",
        "myplist"
      ],
      "metadata": {
        "colab": {
          "base_uri": "https://localhost:8080/"
        },
        "id": "xSiAeYqyr4RO",
        "outputId": "da31d119-7234-4310-c0a5-d5c3c3ec9821"
      },
      "execution_count": null,
      "outputs": [
        {
          "output_type": "execute_result",
          "data": {
            "text/plain": [
              "['SONGID01', 'SONGID06', 'SONGID16']"
            ]
          },
          "metadata": {},
          "execution_count": 10
        }
      ]
    },
    {
      "cell_type": "code",
      "source": [
        "# Assign empty list to totalplist\n",
        "totalplist=[]\n",
        "\n",
        "# Number of songs in new user \"myplist\"\n",
        "for i in range(0,len(myplist)):\n",
        "    songs=myplist[i]\n",
        "\n",
        "# Find playlists for each songs in myplist\n",
        "    findplist = ([key for key, value in playlist.items() if songs in value])\n",
        "\n",
        "# Extend the totalplist with each songs finding.\n",
        "    totalplist.extend(findplist)\n",
        "totalplist"
      ],
      "metadata": {
        "colab": {
          "base_uri": "https://localhost:8080/"
        },
        "id": "_vgc3PHDp0v2",
        "outputId": "7c97e41f-2092-464b-d27f-a825ceb2d201"
      },
      "execution_count": null,
      "outputs": [
        {
          "output_type": "execute_result",
          "data": {
            "text/plain": [
              "['USER24',\n",
              " 'USER51',\n",
              " 'USER80',\n",
              " 'USER84',\n",
              " 'USER57',\n",
              " 'USER70',\n",
              " 'USER91',\n",
              " 'USER28',\n",
              " 'USER31',\n",
              " 'USER39',\n",
              " 'USER65',\n",
              " 'USER71',\n",
              " 'USER50',\n",
              " 'USER87',\n",
              " 'USER25',\n",
              " 'USER56',\n",
              " 'USER75',\n",
              " 'USER11',\n",
              " 'USER43',\n",
              " 'USER86',\n",
              " 'USER93',\n",
              " 'USER49',\n",
              " 'USER78',\n",
              " 'USER96',\n",
              " 'USER26',\n",
              " 'USER92',\n",
              " 'USER34',\n",
              " 'USER82',\n",
              " 'USER70',\n",
              " 'USER31',\n",
              " 'USER53',\n",
              " 'USER38',\n",
              " 'USER94',\n",
              " 'USER59',\n",
              " 'USER15',\n",
              " 'USER87',\n",
              " 'USER19',\n",
              " 'USER22',\n",
              " 'USER41',\n",
              " 'USER49',\n",
              " 'USER36',\n",
              " 'USER26',\n",
              " 'USER46',\n",
              " 'USER30',\n",
              " 'USER92',\n",
              " 'USER34',\n",
              " 'USER84',\n",
              " 'USER70',\n",
              " 'USER21',\n",
              " 'USER29',\n",
              " 'USER55',\n",
              " 'USER19',\n",
              " 'USER25',\n",
              " 'USER20',\n",
              " 'USER43',\n",
              " 'USER22',\n",
              " 'USER41',\n",
              " 'USER98',\n",
              " 'USER83']"
            ]
          },
          "metadata": {},
          "execution_count": 11
        }
      ]
    },
    {
      "cell_type": "code",
      "source": [
        "# Number of playlist for 3 songs['SONGID01','SONGID06','SONGID16'] is\n",
        "len(totalplist)"
      ],
      "metadata": {
        "colab": {
          "base_uri": "https://localhost:8080/"
        },
        "id": "OFHYKnuYsIl3",
        "outputId": "3eb1ac6d-b411-4fd3-ccdf-d8b67aca2dc0"
      },
      "execution_count": null,
      "outputs": [
        {
          "output_type": "execute_result",
          "data": {
            "text/plain": [
              "59"
            ]
          },
          "metadata": {},
          "execution_count": 12
        }
      ]
    },
    {
      "cell_type": "markdown",
      "source": [
        "**From this playlist(s), pick the remaining songs and recommend to the new user (refer below examples for more details)**"
      ],
      "metadata": {
        "id": "dFBwWUJ8sS-J"
      }
    },
    {
      "cell_type": "code",
      "source": [
        "# Assign empty list\n",
        "songs=[]\n",
        "\n",
        "# Loop for ittrate songs from all selected playlist\n",
        "for i in range(0,len(totalplist)):\n",
        "    nlist = totalplist[i]\n",
        "    flist=([value for key, value in playlist.items() if nlist in key])\n",
        "    songs.extend(flist)\n",
        "songs"
      ],
      "metadata": {
        "colab": {
          "base_uri": "https://localhost:8080/"
        },
        "id": "4W0JyUyTsMqB",
        "outputId": "bc3f9ac5-9075-450f-8d2d-e7bc3bb8464e"
      },
      "execution_count": null,
      "outputs": [
        {
          "output_type": "execute_result",
          "data": {
            "text/plain": [
              "[['SONGID18', 'SONGID02', 'SONGID10', 'SONGID01'],\n",
              " ['SONGID09',\n",
              "  'SONGID01',\n",
              "  'SONGID12',\n",
              "  'SONGID13',\n",
              "  'SONGID14',\n",
              "  'SONGID05',\n",
              "  'SONGID02'],\n",
              " ['SONGID01', 'SONGID09', 'SONGID20', 'SONGID05', 'SONGID03', 'SONGID07'],\n",
              " ['SONGID10', 'SONGID02', 'SONGID01', 'SONGID09', 'SONGID16'],\n",
              " ['SONGID20', 'SONGID01', 'SONGID14', 'SONGID11', 'SONGID13', 'SONGID07'],\n",
              " ['SONGID06',\n",
              "  'SONGID16',\n",
              "  'SONGID03',\n",
              "  'SONGID01',\n",
              "  'SONGID18',\n",
              "  'SONGID13',\n",
              "  'SONGID19'],\n",
              " ['SONGID14', 'SONGID01', 'SONGID03', 'SONGID04', 'SONGID05'],\n",
              " ['SONGID01', 'SONGID02', 'SONGID11', 'SONGID15', 'SONGID13'],\n",
              " ['SONGID07',\n",
              "  'SONGID04',\n",
              "  'SONGID06',\n",
              "  'SONGID17',\n",
              "  'SONGID15',\n",
              "  'SONGID13',\n",
              "  'SONGID01'],\n",
              " ['SONGID01',\n",
              "  'SONGID04',\n",
              "  'SONGID11',\n",
              "  'SONGID05',\n",
              "  'SONGID17',\n",
              "  'SONGID15',\n",
              "  'SONGID19'],\n",
              " ['SONGID10',\n",
              "  'SONGID13',\n",
              "  'SONGID01',\n",
              "  'SONGID20',\n",
              "  'SONGID07',\n",
              "  'SONGID09',\n",
              "  'SONGID04'],\n",
              " ['SONGID04',\n",
              "  'SONGID15',\n",
              "  'SONGID01',\n",
              "  'SONGID18',\n",
              "  'SONGID07',\n",
              "  'SONGID13',\n",
              "  'SONGID20'],\n",
              " ['SONGID01', 'SONGID12', 'SONGID14', 'SONGID15', 'SONGID20', 'SONGID02'],\n",
              " ['SONGID01', 'SONGID09', 'SONGID06', 'SONGID04', 'SONGID19'],\n",
              " ['SONGID01',\n",
              "  'SONGID05',\n",
              "  'SONGID12',\n",
              "  'SONGID17',\n",
              "  'SONGID19',\n",
              "  'SONGID16',\n",
              "  'SONGID13'],\n",
              " ['SONGID13', 'SONGID11', 'SONGID01', 'SONGID04', 'SONGID18'],\n",
              " ['SONGID15', 'SONGID11', 'SONGID03', 'SONGID12', 'SONGID01'],\n",
              " ['SONGID14', 'SONGID09', 'SONGID15', 'SONGID04', 'SONGID01', 'SONGID12'],\n",
              " ['SONGID01',\n",
              "  'SONGID08',\n",
              "  'SONGID16',\n",
              "  'SONGID04',\n",
              "  'SONGID11',\n",
              "  'SONGID10',\n",
              "  'SONGID13'],\n",
              " ['SONGID09', 'SONGID13', 'SONGID01', 'SONGID14'],\n",
              " ['SONGID14', 'SONGID15', 'SONGID05', 'SONGID04', 'SONGID03', 'SONGID01'],\n",
              " ['SONGID06', 'SONGID12', 'SONGID13', 'SONGID01'],\n",
              " ['SONGID12', 'SONGID02', 'SONGID20', 'SONGID07', 'SONGID01', 'SONGID13'],\n",
              " ['SONGID01', 'SONGID14', 'SONGID17', 'SONGID18', 'SONGID02'],\n",
              " ['SONGID06',\n",
              "  'SONGID16',\n",
              "  'SONGID07',\n",
              "  'SONGID10',\n",
              "  'SONGID02',\n",
              "  'SONGID05',\n",
              "  'SONGID17'],\n",
              " ['SONGID12',\n",
              "  'SONGID15',\n",
              "  'SONGID14',\n",
              "  'SONGID11',\n",
              "  'SONGID17',\n",
              "  'SONGID16',\n",
              "  'SONGID06'],\n",
              " ['SONGID06',\n",
              "  'SONGID08',\n",
              "  'SONGID13',\n",
              "  'SONGID18',\n",
              "  'SONGID14',\n",
              "  'SONGID12',\n",
              "  'SONGID16'],\n",
              " ['SONGID03', 'SONGID20', 'SONGID06', 'SONGID18'],\n",
              " ['SONGID06',\n",
              "  'SONGID16',\n",
              "  'SONGID03',\n",
              "  'SONGID01',\n",
              "  'SONGID18',\n",
              "  'SONGID13',\n",
              "  'SONGID19'],\n",
              " ['SONGID07',\n",
              "  'SONGID04',\n",
              "  'SONGID06',\n",
              "  'SONGID17',\n",
              "  'SONGID15',\n",
              "  'SONGID13',\n",
              "  'SONGID01'],\n",
              " ['SONGID12',\n",
              "  'SONGID19',\n",
              "  'SONGID11',\n",
              "  'SONGID17',\n",
              "  'SONGID07',\n",
              "  'SONGID08',\n",
              "  'SONGID06'],\n",
              " ['SONGID10', 'SONGID07', 'SONGID09', 'SONGID06'],\n",
              " ['SONGID19', 'SONGID14', 'SONGID04', 'SONGID03', 'SONGID06'],\n",
              " ['SONGID17', 'SONGID18', 'SONGID06', 'SONGID05', 'SONGID11'],\n",
              " ['SONGID04',\n",
              "  'SONGID10',\n",
              "  'SONGID06',\n",
              "  'SONGID18',\n",
              "  'SONGID15',\n",
              "  'SONGID20',\n",
              "  'SONGID14'],\n",
              " ['SONGID01', 'SONGID09', 'SONGID06', 'SONGID04', 'SONGID19'],\n",
              " ['SONGID18', 'SONGID06', 'SONGID16', 'SONGID11'],\n",
              " ['SONGID02',\n",
              "  'SONGID16',\n",
              "  'SONGID05',\n",
              "  'SONGID20',\n",
              "  'SONGID09',\n",
              "  'SONGID06',\n",
              "  'SONGID15'],\n",
              " ['SONGID06', 'SONGID09', 'SONGID02', 'SONGID16'],\n",
              " ['SONGID06', 'SONGID12', 'SONGID13', 'SONGID01'],\n",
              " ['SONGID06', 'SONGID13', 'SONGID19', 'SONGID20'],\n",
              " ['SONGID06',\n",
              "  'SONGID16',\n",
              "  'SONGID07',\n",
              "  'SONGID10',\n",
              "  'SONGID02',\n",
              "  'SONGID05',\n",
              "  'SONGID17'],\n",
              " ['SONGID16', 'SONGID18', 'SONGID17', 'SONGID19'],\n",
              " ['SONGID07', 'SONGID17', 'SONGID05', 'SONGID10', 'SONGID03', 'SONGID16'],\n",
              " ['SONGID12',\n",
              "  'SONGID15',\n",
              "  'SONGID14',\n",
              "  'SONGID11',\n",
              "  'SONGID17',\n",
              "  'SONGID16',\n",
              "  'SONGID06'],\n",
              " ['SONGID06',\n",
              "  'SONGID08',\n",
              "  'SONGID13',\n",
              "  'SONGID18',\n",
              "  'SONGID14',\n",
              "  'SONGID12',\n",
              "  'SONGID16'],\n",
              " ['SONGID10', 'SONGID02', 'SONGID01', 'SONGID09', 'SONGID16'],\n",
              " ['SONGID06',\n",
              "  'SONGID16',\n",
              "  'SONGID03',\n",
              "  'SONGID01',\n",
              "  'SONGID18',\n",
              "  'SONGID13',\n",
              "  'SONGID19'],\n",
              " ['SONGID14',\n",
              "  'SONGID15',\n",
              "  'SONGID16',\n",
              "  'SONGID07',\n",
              "  'SONGID19',\n",
              "  'SONGID17',\n",
              "  'SONGID08'],\n",
              " ['SONGID14', 'SONGID02', 'SONGID17', 'SONGID11', 'SONGID19', 'SONGID16'],\n",
              " ['SONGID05', 'SONGID16', 'SONGID03', 'SONGID02'],\n",
              " ['SONGID18', 'SONGID06', 'SONGID16', 'SONGID11'],\n",
              " ['SONGID01',\n",
              "  'SONGID05',\n",
              "  'SONGID12',\n",
              "  'SONGID17',\n",
              "  'SONGID19',\n",
              "  'SONGID16',\n",
              "  'SONGID13'],\n",
              " ['SONGID12', 'SONGID09', 'SONGID13', 'SONGID16'],\n",
              " ['SONGID01',\n",
              "  'SONGID08',\n",
              "  'SONGID16',\n",
              "  'SONGID04',\n",
              "  'SONGID11',\n",
              "  'SONGID10',\n",
              "  'SONGID13'],\n",
              " ['SONGID02',\n",
              "  'SONGID16',\n",
              "  'SONGID05',\n",
              "  'SONGID20',\n",
              "  'SONGID09',\n",
              "  'SONGID06',\n",
              "  'SONGID15'],\n",
              " ['SONGID06', 'SONGID09', 'SONGID02', 'SONGID16'],\n",
              " ['SONGID18', 'SONGID07', 'SONGID11', 'SONGID16', 'SONGID19'],\n",
              " ['SONGID07',\n",
              "  'SONGID17',\n",
              "  'SONGID04',\n",
              "  'SONGID03',\n",
              "  'SONGID11',\n",
              "  'SONGID14',\n",
              "  'SONGID16']]"
            ]
          },
          "metadata": {},
          "execution_count": 13
        }
      ]
    },
    {
      "cell_type": "code",
      "source": [
        "# processing all songs into a single list\n",
        "from functools import reduce\n",
        "song_list = reduce(lambda xs,ys: xs + ys, songs)\n",
        "song_list"
      ],
      "metadata": {
        "colab": {
          "base_uri": "https://localhost:8080/"
        },
        "id": "_SR2CtDxsZQ-",
        "outputId": "78cc71dc-9fe7-4637-d85f-0d674242833c"
      },
      "execution_count": null,
      "outputs": [
        {
          "output_type": "execute_result",
          "data": {
            "text/plain": [
              "['SONGID18',\n",
              " 'SONGID02',\n",
              " 'SONGID10',\n",
              " 'SONGID01',\n",
              " 'SONGID09',\n",
              " 'SONGID01',\n",
              " 'SONGID12',\n",
              " 'SONGID13',\n",
              " 'SONGID14',\n",
              " 'SONGID05',\n",
              " 'SONGID02',\n",
              " 'SONGID01',\n",
              " 'SONGID09',\n",
              " 'SONGID20',\n",
              " 'SONGID05',\n",
              " 'SONGID03',\n",
              " 'SONGID07',\n",
              " 'SONGID10',\n",
              " 'SONGID02',\n",
              " 'SONGID01',\n",
              " 'SONGID09',\n",
              " 'SONGID16',\n",
              " 'SONGID20',\n",
              " 'SONGID01',\n",
              " 'SONGID14',\n",
              " 'SONGID11',\n",
              " 'SONGID13',\n",
              " 'SONGID07',\n",
              " 'SONGID06',\n",
              " 'SONGID16',\n",
              " 'SONGID03',\n",
              " 'SONGID01',\n",
              " 'SONGID18',\n",
              " 'SONGID13',\n",
              " 'SONGID19',\n",
              " 'SONGID14',\n",
              " 'SONGID01',\n",
              " 'SONGID03',\n",
              " 'SONGID04',\n",
              " 'SONGID05',\n",
              " 'SONGID01',\n",
              " 'SONGID02',\n",
              " 'SONGID11',\n",
              " 'SONGID15',\n",
              " 'SONGID13',\n",
              " 'SONGID07',\n",
              " 'SONGID04',\n",
              " 'SONGID06',\n",
              " 'SONGID17',\n",
              " 'SONGID15',\n",
              " 'SONGID13',\n",
              " 'SONGID01',\n",
              " 'SONGID01',\n",
              " 'SONGID04',\n",
              " 'SONGID11',\n",
              " 'SONGID05',\n",
              " 'SONGID17',\n",
              " 'SONGID15',\n",
              " 'SONGID19',\n",
              " 'SONGID10',\n",
              " 'SONGID13',\n",
              " 'SONGID01',\n",
              " 'SONGID20',\n",
              " 'SONGID07',\n",
              " 'SONGID09',\n",
              " 'SONGID04',\n",
              " 'SONGID04',\n",
              " 'SONGID15',\n",
              " 'SONGID01',\n",
              " 'SONGID18',\n",
              " 'SONGID07',\n",
              " 'SONGID13',\n",
              " 'SONGID20',\n",
              " 'SONGID01',\n",
              " 'SONGID12',\n",
              " 'SONGID14',\n",
              " 'SONGID15',\n",
              " 'SONGID20',\n",
              " 'SONGID02',\n",
              " 'SONGID01',\n",
              " 'SONGID09',\n",
              " 'SONGID06',\n",
              " 'SONGID04',\n",
              " 'SONGID19',\n",
              " 'SONGID01',\n",
              " 'SONGID05',\n",
              " 'SONGID12',\n",
              " 'SONGID17',\n",
              " 'SONGID19',\n",
              " 'SONGID16',\n",
              " 'SONGID13',\n",
              " 'SONGID13',\n",
              " 'SONGID11',\n",
              " 'SONGID01',\n",
              " 'SONGID04',\n",
              " 'SONGID18',\n",
              " 'SONGID15',\n",
              " 'SONGID11',\n",
              " 'SONGID03',\n",
              " 'SONGID12',\n",
              " 'SONGID01',\n",
              " 'SONGID14',\n",
              " 'SONGID09',\n",
              " 'SONGID15',\n",
              " 'SONGID04',\n",
              " 'SONGID01',\n",
              " 'SONGID12',\n",
              " 'SONGID01',\n",
              " 'SONGID08',\n",
              " 'SONGID16',\n",
              " 'SONGID04',\n",
              " 'SONGID11',\n",
              " 'SONGID10',\n",
              " 'SONGID13',\n",
              " 'SONGID09',\n",
              " 'SONGID13',\n",
              " 'SONGID01',\n",
              " 'SONGID14',\n",
              " 'SONGID14',\n",
              " 'SONGID15',\n",
              " 'SONGID05',\n",
              " 'SONGID04',\n",
              " 'SONGID03',\n",
              " 'SONGID01',\n",
              " 'SONGID06',\n",
              " 'SONGID12',\n",
              " 'SONGID13',\n",
              " 'SONGID01',\n",
              " 'SONGID12',\n",
              " 'SONGID02',\n",
              " 'SONGID20',\n",
              " 'SONGID07',\n",
              " 'SONGID01',\n",
              " 'SONGID13',\n",
              " 'SONGID01',\n",
              " 'SONGID14',\n",
              " 'SONGID17',\n",
              " 'SONGID18',\n",
              " 'SONGID02',\n",
              " 'SONGID06',\n",
              " 'SONGID16',\n",
              " 'SONGID07',\n",
              " 'SONGID10',\n",
              " 'SONGID02',\n",
              " 'SONGID05',\n",
              " 'SONGID17',\n",
              " 'SONGID12',\n",
              " 'SONGID15',\n",
              " 'SONGID14',\n",
              " 'SONGID11',\n",
              " 'SONGID17',\n",
              " 'SONGID16',\n",
              " 'SONGID06',\n",
              " 'SONGID06',\n",
              " 'SONGID08',\n",
              " 'SONGID13',\n",
              " 'SONGID18',\n",
              " 'SONGID14',\n",
              " 'SONGID12',\n",
              " 'SONGID16',\n",
              " 'SONGID03',\n",
              " 'SONGID20',\n",
              " 'SONGID06',\n",
              " 'SONGID18',\n",
              " 'SONGID06',\n",
              " 'SONGID16',\n",
              " 'SONGID03',\n",
              " 'SONGID01',\n",
              " 'SONGID18',\n",
              " 'SONGID13',\n",
              " 'SONGID19',\n",
              " 'SONGID07',\n",
              " 'SONGID04',\n",
              " 'SONGID06',\n",
              " 'SONGID17',\n",
              " 'SONGID15',\n",
              " 'SONGID13',\n",
              " 'SONGID01',\n",
              " 'SONGID12',\n",
              " 'SONGID19',\n",
              " 'SONGID11',\n",
              " 'SONGID17',\n",
              " 'SONGID07',\n",
              " 'SONGID08',\n",
              " 'SONGID06',\n",
              " 'SONGID10',\n",
              " 'SONGID07',\n",
              " 'SONGID09',\n",
              " 'SONGID06',\n",
              " 'SONGID19',\n",
              " 'SONGID14',\n",
              " 'SONGID04',\n",
              " 'SONGID03',\n",
              " 'SONGID06',\n",
              " 'SONGID17',\n",
              " 'SONGID18',\n",
              " 'SONGID06',\n",
              " 'SONGID05',\n",
              " 'SONGID11',\n",
              " 'SONGID04',\n",
              " 'SONGID10',\n",
              " 'SONGID06',\n",
              " 'SONGID18',\n",
              " 'SONGID15',\n",
              " 'SONGID20',\n",
              " 'SONGID14',\n",
              " 'SONGID01',\n",
              " 'SONGID09',\n",
              " 'SONGID06',\n",
              " 'SONGID04',\n",
              " 'SONGID19',\n",
              " 'SONGID18',\n",
              " 'SONGID06',\n",
              " 'SONGID16',\n",
              " 'SONGID11',\n",
              " 'SONGID02',\n",
              " 'SONGID16',\n",
              " 'SONGID05',\n",
              " 'SONGID20',\n",
              " 'SONGID09',\n",
              " 'SONGID06',\n",
              " 'SONGID15',\n",
              " 'SONGID06',\n",
              " 'SONGID09',\n",
              " 'SONGID02',\n",
              " 'SONGID16',\n",
              " 'SONGID06',\n",
              " 'SONGID12',\n",
              " 'SONGID13',\n",
              " 'SONGID01',\n",
              " 'SONGID06',\n",
              " 'SONGID13',\n",
              " 'SONGID19',\n",
              " 'SONGID20',\n",
              " 'SONGID06',\n",
              " 'SONGID16',\n",
              " 'SONGID07',\n",
              " 'SONGID10',\n",
              " 'SONGID02',\n",
              " 'SONGID05',\n",
              " 'SONGID17',\n",
              " 'SONGID16',\n",
              " 'SONGID18',\n",
              " 'SONGID17',\n",
              " 'SONGID19',\n",
              " 'SONGID07',\n",
              " 'SONGID17',\n",
              " 'SONGID05',\n",
              " 'SONGID10',\n",
              " 'SONGID03',\n",
              " 'SONGID16',\n",
              " 'SONGID12',\n",
              " 'SONGID15',\n",
              " 'SONGID14',\n",
              " 'SONGID11',\n",
              " 'SONGID17',\n",
              " 'SONGID16',\n",
              " 'SONGID06',\n",
              " 'SONGID06',\n",
              " 'SONGID08',\n",
              " 'SONGID13',\n",
              " 'SONGID18',\n",
              " 'SONGID14',\n",
              " 'SONGID12',\n",
              " 'SONGID16',\n",
              " 'SONGID10',\n",
              " 'SONGID02',\n",
              " 'SONGID01',\n",
              " 'SONGID09',\n",
              " 'SONGID16',\n",
              " 'SONGID06',\n",
              " 'SONGID16',\n",
              " 'SONGID03',\n",
              " 'SONGID01',\n",
              " 'SONGID18',\n",
              " 'SONGID13',\n",
              " 'SONGID19',\n",
              " 'SONGID14',\n",
              " 'SONGID15',\n",
              " 'SONGID16',\n",
              " 'SONGID07',\n",
              " 'SONGID19',\n",
              " 'SONGID17',\n",
              " 'SONGID08',\n",
              " 'SONGID14',\n",
              " 'SONGID02',\n",
              " 'SONGID17',\n",
              " 'SONGID11',\n",
              " 'SONGID19',\n",
              " 'SONGID16',\n",
              " 'SONGID05',\n",
              " 'SONGID16',\n",
              " 'SONGID03',\n",
              " 'SONGID02',\n",
              " 'SONGID18',\n",
              " 'SONGID06',\n",
              " 'SONGID16',\n",
              " 'SONGID11',\n",
              " 'SONGID01',\n",
              " 'SONGID05',\n",
              " 'SONGID12',\n",
              " 'SONGID17',\n",
              " 'SONGID19',\n",
              " 'SONGID16',\n",
              " 'SONGID13',\n",
              " 'SONGID12',\n",
              " 'SONGID09',\n",
              " 'SONGID13',\n",
              " 'SONGID16',\n",
              " 'SONGID01',\n",
              " 'SONGID08',\n",
              " 'SONGID16',\n",
              " 'SONGID04',\n",
              " 'SONGID11',\n",
              " 'SONGID10',\n",
              " 'SONGID13',\n",
              " 'SONGID02',\n",
              " 'SONGID16',\n",
              " 'SONGID05',\n",
              " 'SONGID20',\n",
              " 'SONGID09',\n",
              " 'SONGID06',\n",
              " 'SONGID15',\n",
              " 'SONGID06',\n",
              " 'SONGID09',\n",
              " 'SONGID02',\n",
              " 'SONGID16',\n",
              " 'SONGID18',\n",
              " 'SONGID07',\n",
              " 'SONGID11',\n",
              " 'SONGID16',\n",
              " 'SONGID19',\n",
              " 'SONGID07',\n",
              " 'SONGID17',\n",
              " 'SONGID04',\n",
              " 'SONGID03',\n",
              " 'SONGID11',\n",
              " 'SONGID14',\n",
              " 'SONGID16']"
            ]
          },
          "metadata": {},
          "execution_count": 14
        }
      ]
    },
    {
      "cell_type": "code",
      "source": [
        "# Removing duplicates in the list\n",
        "uniq_songs = []\n",
        "for i in song_list:\n",
        "    if i not in uniq_songs:\n",
        "        uniq_songs.append(i)\n",
        "\n",
        "uniq_songs"
      ],
      "metadata": {
        "colab": {
          "base_uri": "https://localhost:8080/"
        },
        "id": "_9P2zS_MsfAY",
        "outputId": "621e5507-b8e1-40c4-8e1f-dc499746f902"
      },
      "execution_count": null,
      "outputs": [
        {
          "output_type": "execute_result",
          "data": {
            "text/plain": [
              "['SONGID18',\n",
              " 'SONGID02',\n",
              " 'SONGID10',\n",
              " 'SONGID01',\n",
              " 'SONGID09',\n",
              " 'SONGID12',\n",
              " 'SONGID13',\n",
              " 'SONGID14',\n",
              " 'SONGID05',\n",
              " 'SONGID20',\n",
              " 'SONGID03',\n",
              " 'SONGID07',\n",
              " 'SONGID16',\n",
              " 'SONGID11',\n",
              " 'SONGID06',\n",
              " 'SONGID19',\n",
              " 'SONGID04',\n",
              " 'SONGID15',\n",
              " 'SONGID17',\n",
              " 'SONGID08']"
            ]
          },
          "metadata": {},
          "execution_count": 15
        }
      ]
    },
    {
      "cell_type": "code",
      "source": [
        "# Removing new user myplist songs list from recommend_song list\n",
        "recom_songs = [songs for songs in uniq_songs if songs not in myplist]\n",
        "recom_songs"
      ],
      "metadata": {
        "colab": {
          "base_uri": "https://localhost:8080/"
        },
        "id": "g0QzNXmwskI2",
        "outputId": "1f473b83-7f81-4776-9040-31a5da93c173"
      },
      "execution_count": null,
      "outputs": [
        {
          "output_type": "execute_result",
          "data": {
            "text/plain": [
              "['SONGID18',\n",
              " 'SONGID02',\n",
              " 'SONGID10',\n",
              " 'SONGID09',\n",
              " 'SONGID12',\n",
              " 'SONGID13',\n",
              " 'SONGID14',\n",
              " 'SONGID05',\n",
              " 'SONGID20',\n",
              " 'SONGID03',\n",
              " 'SONGID07',\n",
              " 'SONGID11',\n",
              " 'SONGID19',\n",
              " 'SONGID04',\n",
              " 'SONGID15',\n",
              " 'SONGID17',\n",
              " 'SONGID08']"
            ]
          },
          "metadata": {},
          "execution_count": 16
        }
      ]
    },
    {
      "cell_type": "markdown",
      "source": [
        "**How can we identify playlists that contain all songs in a new user's input list?**"
      ],
      "metadata": {
        "id": "2IoxX8tGtF3W"
      }
    },
    {
      "cell_type": "code",
      "source": [
        "# Given input list of songs for a new user\n",
        "new_user_songs = ['SONGID03', 'SONGID07', 'SONGID12']\n",
        "\n",
        "# Identify playlists containing all songs from the new user's input list\n",
        "matching_playlists = [user for user, songs in playlist.items() if all(song in songs for song in new_user_songs)]\n",
        "\n",
        "print(\"Matching Playlists:\", matching_playlists)\n"
      ],
      "metadata": {
        "colab": {
          "base_uri": "https://localhost:8080/"
        },
        "id": "cWhprFIwtBgb",
        "outputId": "02ebc07f-8e22-4591-ceb2-27dd5128da2e"
      },
      "execution_count": null,
      "outputs": [
        {
          "output_type": "stream",
          "name": "stdout",
          "text": [
            "Matching Playlists: ['USER72']\n"
          ]
        }
      ]
    },
    {
      "cell_type": "markdown",
      "source": [
        "**How can we recommend songs from the matching playlists to the new user?**"
      ],
      "metadata": {
        "id": "RpslF0KmtUG_"
      }
    },
    {
      "cell_type": "code",
      "source": [
        "# Extract songs from the matching playlists\n",
        "recommended_songs = []\n",
        "for user in matching_playlists:\n",
        "    recommended_songs.extend([song for song in playlist[user] if song not in new_user_songs])\n",
        "\n",
        "print(\"Recommended Songs:\", recommended_songs)\n"
      ],
      "metadata": {
        "colab": {
          "base_uri": "https://localhost:8080/"
        },
        "id": "nUiAVDbktKYm",
        "outputId": "82438881-b5f4-4d80-ef52-7af42700ecd8"
      },
      "execution_count": null,
      "outputs": [
        {
          "output_type": "stream",
          "name": "stdout",
          "text": [
            "Recommended Songs: ['SONGID11', 'SONGID09', 'SONGID19']\n"
          ]
        }
      ]
    },
    {
      "cell_type": "code",
      "source": [
        "# Ensure recommended songs are unique\n",
        "unique_recommended_songs = list(set(recommended_songs))\n",
        "\n",
        "print(\"Unique Recommended Songs:\", unique_recommended_songs)\n"
      ],
      "metadata": {
        "colab": {
          "base_uri": "https://localhost:8080/"
        },
        "id": "uw0yNaxQ0lQ5",
        "outputId": "a3cb7fac-109c-48b3-a026-130826b52d1c"
      },
      "execution_count": null,
      "outputs": [
        {
          "output_type": "stream",
          "name": "stdout",
          "text": [
            "Unique Recommended Songs: ['SONGID09', 'SONGID19', 'SONGID11']\n"
          ]
        }
      ]
    },
    {
      "cell_type": "markdown",
      "source": [
        "**How can we limit the number of recommendations to a certain maximum count?**"
      ],
      "metadata": {
        "id": "HEH_Km-htcKF"
      }
    },
    {
      "cell_type": "code",
      "source": [
        "# Limit the number of recommendations to a maximum count, e.g., 10 songs\n",
        "max_recommendations = 10\n",
        "limited_recommended_songs = unique_recommended_songs[:max_recommendations]\n",
        "\n",
        "print(\"Limited Recommended Songs:\", limited_recommended_songs)\n"
      ],
      "metadata": {
        "colab": {
          "base_uri": "https://localhost:8080/"
        },
        "id": "rfDhtPcTtVyN",
        "outputId": "3a5ba47e-1984-49e5-e21d-8dbc1c59f820"
      },
      "execution_count": null,
      "outputs": [
        {
          "output_type": "stream",
          "name": "stdout",
          "text": [
            "Limited Recommended Songs: ['SONGID09', 'SONGID19', 'SONGID11']\n"
          ]
        }
      ]
    },
    {
      "cell_type": "markdown",
      "source": [
        "**How can we encapsulate the recommendation process into a function?**"
      ],
      "metadata": {
        "id": "WnBtW5jPtfjd"
      }
    },
    {
      "cell_type": "code",
      "source": [
        "# Create a function to generate recommendations for a new user\n",
        "def generate_recommendations(new_user_songs, max_count=10):\n",
        "    matching_playlists = [user for user, songs in playlist.items() if all(song in songs for song in new_user_songs)]\n",
        "    recommended_songs = []\n",
        "\n",
        "    for user in matching_playlists:\n",
        "        recommended_songs.extend([song for song in playlist[user] if song not in new_user_songs])\n",
        "\n",
        "    unique_recommended_songs = list(set(recommended_songs))\n",
        "    limited_recommended_songs = unique_recommended_songs[:max_count]\n",
        "\n",
        "    return limited_recommended_songs\n",
        "\n",
        "# Example usage:\n",
        "new_user_songs = ['SONGID03', 'SONGID07', 'SONGID12']\n",
        "recommended_songs = generate_recommendations(new_user_songs)\n",
        "print(\"Recommended Songs:\", recommended_songs)\n"
      ],
      "metadata": {
        "colab": {
          "base_uri": "https://localhost:8080/"
        },
        "id": "eZKT-F7utgLl",
        "outputId": "82e75257-4440-45bc-8035-7daf881f94d4"
      },
      "execution_count": null,
      "outputs": [
        {
          "output_type": "stream",
          "name": "stdout",
          "text": [
            "Recommended Songs: ['SONGID09', 'SONGID19', 'SONGID11']\n"
          ]
        }
      ]
    },
    {
      "cell_type": "markdown",
      "source": [
        "**How can we ensure that the code is modular and well-documented?**"
      ],
      "metadata": {
        "id": "Tt2mGDCntnou"
      }
    },
    {
      "cell_type": "code",
      "source": [
        "# Modular code with comments\n",
        "\n",
        "# Function to identify matching playlists\n",
        "def find_matching_playlists(new_user_songs):\n",
        "    matching_playlists = [user for user, songs in playlist.items() if all(song in songs for song in new_user_songs)]\n",
        "    return matching_playlists\n",
        "\n",
        "# Function to generate recommendations\n",
        "def generate_recommendations(new_user_songs, max_count=10):\n",
        "    matching_playlists = find_matching_playlists(new_user_songs)\n",
        "    recommended_songs = []\n",
        "\n",
        "    for user in matching_playlists:\n",
        "        recommended_songs.extend([song for song in playlist[user] if song not in new_user_songs])\n",
        "\n",
        "    unique_recommended_songs = list(set(recommended_songs))\n",
        "    limited_recommended_songs = unique_recommended_songs[:max_count]\n",
        "\n",
        "    return limited_recommended_songs\n",
        "\n",
        "# Example usage:\n",
        "new_user_songs = ['SONGID03', 'SONGID07', 'SONGID12']\n",
        "recommended_songs = generate_recommendations(new_user_songs)\n",
        "print(\"Recommended Songs:\", recommended_songs)\n"
      ],
      "metadata": {
        "colab": {
          "base_uri": "https://localhost:8080/"
        },
        "id": "HPnwVBSFtn6W",
        "outputId": "19b98e95-1765-4618-dcad-c0147acbc20b"
      },
      "execution_count": null,
      "outputs": [
        {
          "output_type": "stream",
          "name": "stdout",
          "text": [
            "Recommended Songs: ['SONGID09', 'SONGID19', 'SONGID11']\n"
          ]
        }
      ]
    }
  ]
}